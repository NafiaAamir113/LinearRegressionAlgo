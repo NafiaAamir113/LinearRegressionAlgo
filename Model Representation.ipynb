{
 "cells": [
  {
   "cell_type": "markdown",
   "id": "c47a3294",
   "metadata": {},
   "source": [
    "# Import Libraries"
   ]
  },
  {
   "cell_type": "code",
   "execution_count": 1,
   "id": "5dffe709",
   "metadata": {},
   "outputs": [],
   "source": [
    "import numpy as np\n",
    "import matplotlib.pyplot as plt\n",
    "plt.style.use('./deeplearning.mplstyle')"
   ]
  },
  {
   "cell_type": "markdown",
   "id": "9af85b4e",
   "metadata": {},
   "source": [
    "# Data Set"
   ]
  },
  {
   "cell_type": "code",
   "execution_count": 2,
   "id": "efd9925c",
   "metadata": {},
   "outputs": [
    {
     "name": "stdout",
     "output_type": "stream",
     "text": [
      "x_train = [1. 2.]\n",
      "y_train = [300. 500.]\n"
     ]
    }
   ],
   "source": [
    "# x_train is the input variable (size in 1000 sqft)\n",
    "# y_train is the target variable (price in 1000s of dollars)\n",
    "x_train = np.array([1.0,2.0])\n",
    "y_train = np.array([300.0,500.0])\n",
    "print(f\"x_train = {x_train}\")\n",
    "print(f\"y_train = {y_train}\")"
   ]
  },
  {
   "cell_type": "markdown",
   "id": "0ffa9c3b",
   "metadata": {},
   "source": [
    "# Number of training examples m"
   ]
  },
  {
   "cell_type": "code",
   "execution_count": 3,
   "id": "312218f0",
   "metadata": {},
   "outputs": [
    {
     "name": "stdout",
     "output_type": "stream",
     "text": [
      "x_train.shape: (2,)\n",
      "Number of training examples is:2\n"
     ]
    }
   ],
   "source": [
    "# m is the number of training examples\n",
    "print(f\"x_train.shape: {x_train.shape}\")\n",
    "m = x_train.shape[0]\n",
    "print(f\"Number of training examples is:{m}\")"
   ]
  },
  {
   "cell_type": "markdown",
   "id": "88525095",
   "metadata": {},
   "source": [
    "# len function is used to find m"
   ]
  },
  {
   "cell_type": "code",
   "execution_count": 4,
   "id": "2c6c9177",
   "metadata": {},
   "outputs": [
    {
     "name": "stdout",
     "output_type": "stream",
     "text": [
      "Number of training examples:2\n"
     ]
    }
   ],
   "source": [
    "# m is the number of training examples\n",
    "m = len(x_train)\n",
    "print(f\"Number of training examples:{m}\")"
   ]
  },
  {
   "cell_type": "markdown",
   "id": "704efd91",
   "metadata": {},
   "source": [
    "# Training examples x_i, y_i"
   ]
  },
  {
   "cell_type": "code",
   "execution_count": 5,
   "id": "08ae7784",
   "metadata": {},
   "outputs": [
    {
     "name": "stdout",
     "output_type": "stream",
     "text": [
      "(x^(1),y^(1)) = (2.0,500.0)\n"
     ]
    }
   ],
   "source": [
    "i = 1\n",
    "# Change this to 1 to see (x^1, y^1)\n",
    "x_i = x_train[i]\n",
    "y_i = y_train[i]\n",
    "print(f\"(x^({i}),y^({i})) = ({x_i},{y_i})\")"
   ]
  },
  {
   "cell_type": "markdown",
   "id": "e39648cc",
   "metadata": {},
   "source": [
    "# Plotting the data"
   ]
  },
  {
   "cell_type": "code",
   "execution_count": 6,
   "id": "446f7349",
   "metadata": {},
   "outputs": [
    {
     "data": {
      "image/png": "[encoded data removed]",
      "text/plain": [
       "<Figure size 640x480 with 1 Axes>"
      ]
     },
     "metadata": {},
     "output_type": "display_data"
    }
   ],
   "source": [
    "# Plot the data points\n",
    "plt.scatter(x_train,y_train, marker = 'x',c ='r')\n",
    "# Set the title\n",
    "plt.title(\"Housing Price\")\n",
    "# Set the x-axis label\n",
    "plt.xlabel('Size (1000 sqft)')\n",
    "# Set the y-axis label\n",
    "plt.ylabel('Price (in 1000s of dollars)')\n",
    "plt.show()"
   ]
  },
  {
   "cell_type": "markdown",
   "id": "c5683b8f",
   "metadata": {},
   "source": [
    "# Model Function"
   ]
  },
  {
   "cell_type": "code",
   "execution_count": 8,
   "id": "6d52c47f",
   "metadata": {},
   "outputs": [
    {
     "name": "stdout",
     "output_type": "stream",
     "text": [
      "w: 200\n",
      "b: 100\n"
     ]
    }
   ],
   "source": [
    "w = 200\n",
    "b = 100\n",
    "print(f\"w: {w}\")\n",
    "print(f\"b: {b}\")"
   ]
  },
  {
   "cell_type": "markdown",
   "id": "fe69310e",
   "metadata": {},
   "source": [
    "# compute_model_output function"
   ]
  },
  {
   "cell_type": "code",
   "execution_count": 10,
   "id": "ed433d2a",
   "metadata": {},
   "outputs": [
    {
     "ename": "IndentationError",
     "evalue": "unindent does not match any outer indentation level (<tokenize>, line 10)",
     "output_type": "error",
     "traceback": [
      "\u001b[1;36m  File \u001b[1;32m<tokenize>:10\u001b[1;36m\u001b[0m\n\u001b[1;33m    m = x.shape[0]\u001b[0m\n\u001b[1;37m    ^\u001b[0m\n\u001b[1;31mIndentationError\u001b[0m\u001b[1;31m:\u001b[0m unindent does not match any outer indentation level\n"
     ]
    }
   ],
   "source": [
    "def compute_model_output(x,w,b):\n",
    "     \"\"\"\n",
    "    Computes the prediction of a linear model\n",
    "    Args:\n",
    "      x : Data, m examples \n",
    "      w,b (scalar)    : model parameters  \n",
    "    Returns\n",
    "      y : target values\n",
    "    \"\"\"\n",
    "    m = x.shape[0]\n",
    "    f_wb = np.zeros(m)\n",
    "    for i in range(m):\n",
    "        f_wb[i]= w * x[i] + b\n",
    "    return f_wb"
   ]
  },
  {
   "cell_type": "markdown",
   "id": "7b9b88d6",
   "metadata": {},
   "source": [
    "# Calling the function and plot the output"
   ]
  },
  {
   "cell_type": "code",
   "execution_count": 9,
   "id": "0634b3d8",
   "metadata": {},
   "outputs": [
    {
     "data": {
      "image/png": "[encoded data removed]",
      "text/plain": [
       "<Figure size 640x480 with 1 Axes>"
      ]
     },
     "metadata": {},
     "output_type": "display_data"
    }
   ],
   "source": [
    "tmp_f_wb = compute_model_output(x_train, w,b,)\n",
    "# Plot our model prediction\n",
    "plt.plot(x_train, tmp_f_wb, c = 'b',label ='Our Prediction')\n",
    "# Plot the data points\n",
    "plt.scatter(x_train, y_train, marker = 'x', c = 'r',label = 'Actual Values')\n",
    "# Set the title\n",
    "plt.title('Housing Price')\n",
    "# Set the x-axis label\n",
    "plt.xlabel('Size (1000 sqft)')\n",
    "# Set the y-axis label\n",
    "plt.ylabel('Price in (1000s of dollars)')\n",
    "plt.legend()\n",
    "plt.show()"
   ]
  },
  {
   "cell_type": "markdown",
   "id": "f3890f80",
   "metadata": {},
   "source": [
    "# Prediction"
   ]
  },
  {
   "cell_type": "code",
   "execution_count": 11,
   "id": "3409a963",
   "metadata": {},
   "outputs": [
    {
     "name": "stdout",
     "output_type": "stream",
     "text": [
      "$340 thousands dollars\n"
     ]
    }
   ],
   "source": [
    "# Prediction of House Price in 1200 sqft.Since the units of x are in 1000's of sqft,x is 1.2\n",
    "w = 200\n",
    "b = 100\n",
    "x_i = 1.2\n",
    "cost_1200sqft = w * x_i + b\n",
    "print(f\"${cost_1200sqft:.0f} thousands dollars\")"
   ]
  },
  {
   "cell_type": "code",
   "execution_count": 12,
   "id": "12989d9c",
   "metadata": {},
   "outputs": [
    {
     "name": "stdout",
     "output_type": "stream",
     "text": [
      "[0. 0.]\n"
     ]
    }
   ],
   "source": [
    "f_wb = np.zeros(2)\n",
    "print(f_wb)"
   ]
  },
  {
   "cell_type": "code",
   "execution_count": null,
   "id": "65040371",
   "metadata": {},
   "outputs": [],
   "source": []
  }
 ],
 "metadata": {
  "kernelspec": {
   "display_name": "Python 3 (ipykernel)",
   "language": "python",
   "name": "python3"
  },
  "language_info": {
   "codemirror_mode": {
    "name": "ipython",
    "version": 3
   },
   "file_extension": ".py",
   "mimetype": "text/x-python",
   "name": "python",
   "nbconvert_exporter": "python",
   "pygments_lexer": "ipython3",
   "version": "3.11.4"
  }
 },
 "nbformat": 4,
 "nbformat_minor": 5
}
